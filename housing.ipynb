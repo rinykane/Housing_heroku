{
 "cells": [
  {
   "cell_type": "markdown",
   "metadata": {
    "collapsed": true
   },
   "source": [
    "## Housing price prediction\n",
    "\n",
    "A web service for predicting housing prices on city districts using regression and to deploy the service publicly (for example, on Heroku). The service offer an endpoint that takes as input certain statistics of the district (defined below), and outputs the estimated price of a dwelling.\n"
   ]
  },
  {
   "cell_type": "code",
   "execution_count": 14,
   "metadata": {},
   "outputs": [],
   "source": [
    "import pandas as pd\n",
    "import numpy as np\n",
    "from sklearn.linear_model import LinearRegression\n",
    "from sklearn.model_selection import train_test_split\n",
    "from sklearn.metrics import mean_squared_error\n",
    "from math import sqrt\n",
    "from numpy import arange,array,ones,linalg\n",
    "import sys\n",
    "sys.path.append('flask-app')\n",
    "from calc_dev import calc_dev\n"
   ]
  },
  {
   "cell_type": "code",
   "execution_count": 15,
   "metadata": {
    "collapsed": true
   },
   "outputs": [],
   "source": [
    "testparam = pd.DataFrame({\n",
    "  \"property_tax_rate\": [330.0],\n",
    "  \"avg_number_of_rooms\": [0.1],\n",
    "  \"crime_rate\": [4.0],\n",
    "  \"distance_to_employment_centers\": [6.5],\n",
    "  \"pupil_teacher_ratio\": [19.5]\n",
    "})"
   ]
  },
  {
   "cell_type": "markdown",
   "metadata": {},
   "source": [
    "## Dataset\n",
    "\n",
    "The pricing data for training a model is provided as a CSV formatted\n",
    "file. \n",
    "\n",
    "The columns are as follows:\n",
    "\n",
    "- crime_rate: per capita crime rate in the district\n",
    "- avg_number_of_rooms: average number of rooms per dwelling\n",
    "- distance_to_employment_centers: weighted distances to employment centres in the city\n",
    "- property_tax_rate: full-value property-tax rate per USD 10,000\n",
    "- pupil_teacher_ratio: pupil-teacher ratio in the district\n",
    "- house_value: Median value of owner-occupied homes in $1000's\n",
    "\n"
   ]
  },
  {
   "cell_type": "code",
   "execution_count": 16,
   "metadata": {
    "collapsed": true
   },
   "outputs": [],
   "source": [
    "Housing=pd.read_csv('housing.csv')\n",
    "features = ['crime_rate', 'avg_number_of_rooms','distance_to_employment_centers', 'property_tax_rate','pupil_teacher_ratio']\n",
    "\n",
    "y = Housing['house_value']\n"
   ]
  },
  {
   "cell_type": "code",
   "execution_count": 8,
   "metadata": {},
   "outputs": [
    {
     "data": {
      "text/plain": [
       "count    505.000000\n",
       "mean      22.529901\n",
       "std        9.205991\n",
       "min        5.000000\n",
       "25%       17.000000\n",
       "50%       21.200000\n",
       "75%       25.000000\n",
       "max       50.000000\n",
       "Name: house_value, dtype: float64"
      ]
     },
     "execution_count": 8,
     "metadata": {},
     "output_type": "execute_result"
    }
   ],
   "source": [
    "Housing['house_value'].describe()"
   ]
  },
  {
   "cell_type": "code",
   "execution_count": 17,
   "metadata": {
    "collapsed": true
   },
   "outputs": [],
   "source": [
    "y = Housing['house_value']\n",
    "X = Housing[features]\n",
    "\n",
    "# Test case using random selection\n",
    "X_train, X_test, y_train, y_test = train_test_split(X, y, test_size=0.30, random_state=324)\n",
    "\n"
   ]
  },
  {
   "cell_type": "markdown",
   "metadata": {},
   "source": [
    "Linear regression calculation"
   ]
  },
  {
   "cell_type": "code",
   "execution_count": 18,
   "metadata": {},
   "outputs": [
    {
     "data": {
      "text/plain": [
       "(count    152.000000\n",
       " mean      23.088326\n",
       " std        7.130807\n",
       " min       -2.292278\n",
       " 25%       18.891306\n",
       " 50%       22.701893\n",
       " 75%       26.705582\n",
       " max       45.649920\n",
       " dtype: float64, count    152.000000\n",
       " mean      22.861842\n",
       " std        8.855357\n",
       " min        5.000000\n",
       " 25%       17.475000\n",
       " 50%       21.800000\n",
       " 75%       26.525000\n",
       " max       50.000000\n",
       " Name: house_value, dtype: float64)"
      ]
     },
     "execution_count": 18,
     "metadata": {},
     "output_type": "execute_result"
    }
   ],
   "source": [
    "regressor = LinearRegression()\n",
    "regressor.fit(X_train, y_train)\n",
    "y_prediction = regressor.predict(X_test)\n",
    "# checking the model\n",
    "pd.Series(y_prediction).describe(), y_test.describe()"
   ]
  },
  {
   "cell_type": "markdown",
   "metadata": {},
   "source": [
    "Mean Squared Error calculation"
   ]
  },
  {
   "cell_type": "code",
   "execution_count": 19,
   "metadata": {},
   "outputs": [
    {
     "name": "stdout",
     "output_type": "stream",
     "text": [
      "5.848798872243093\n"
     ]
    }
   ],
   "source": [
    "RMSE = sqrt(mean_squared_error(y_true = y_test, y_pred = y_prediction))\n",
    "print(RMSE)"
   ]
  },
  {
   "cell_type": "code",
   "execution_count": 20,
   "metadata": {},
   "outputs": [
    {
     "data": {
      "text/plain": [
       "{'copy_X': True, 'fit_intercept': True, 'n_jobs': 1, 'normalize': False}"
      ]
     },
     "execution_count": 20,
     "metadata": {},
     "output_type": "execute_result"
    }
   ],
   "source": [
    "# Parameters used\n",
    "regressor.get_params()"
   ]
  },
  {
   "cell_type": "markdown",
   "metadata": {},
   "source": [
    "Function to calculate Standard Deviation based on #num nearest data points"
   ]
  },
  {
   "cell_type": "markdown",
   "metadata": {},
   "source": [
    "Testing prediction and deviation calculation"
   ]
  },
  {
   "cell_type": "code",
   "execution_count": 23,
   "metadata": {},
   "outputs": [
    {
     "name": "stdout",
     "output_type": "stream",
     "text": [
      "[ 25.84960469] 10.113701876986765\n"
     ]
    }
   ],
   "source": [
    "x1 = X.iloc[0:1]\n",
    "res = regressor.predict(x1)\n",
    "stddev = calc_dev(x1, 100)\n",
    "print(res, stddev)"
   ]
  },
  {
   "cell_type": "markdown",
   "metadata": {
    "collapsed": true
   },
   "source": [
    "Manages WS requests and responses.\n",
    "\n",
    "The web service has a single HTTP POST endpoint /predict. The endpoint accepts a JSON object specifying values for the input variables.\n",
    "\n",
    "Example request (the server is running on port 5000 on localhost):\n",
    "\n",
    "curl http://localhost:5000/predict -H application/json --data-binary '{\n",
    "  \"crime_rate\": 0.1,\n",
    "  \"avg_number_of_rooms\": 4.0,\n",
    "  \"distance_to_employment_centers\": 6.5,\n",
    "  \"property_tax_rate\": 330.0,\n",
    "  \"pupil_teacher_ratio\": 19.5\n",
    "}'\n"
   ]
  },
  {
   "cell_type": "markdown",
   "metadata": {},
   "source": [
    "## Saving the Model using Pickle"
   ]
  },
  {
   "cell_type": "code",
   "execution_count": 24,
   "metadata": {
    "collapsed": true
   },
   "outputs": [],
   "source": [
    "import pickle\n",
    "\n",
    "with open('reg_model.pkl', 'wb') as fid:\n",
    "    pickle.dump(regressor, fid,2) "
   ]
  },
  {
   "cell_type": "code",
   "execution_count": 25,
   "metadata": {
    "collapsed": true
   },
   "outputs": [],
   "source": [
    "#Save a y-values for deviation\n",
    "\n",
    "#Save the index_dict into disk\n",
    "with open('y_values.pkl', 'wb') as fid:\n",
    "    pickle.dump(y, fid,2)  "
   ]
  },
  {
   "cell_type": "code",
   "execution_count": null,
   "metadata": {
    "collapsed": true
   },
   "outputs": [],
   "source": []
  }
 ],
 "metadata": {
  "kernelspec": {
   "display_name": "Python 3",
   "language": "python",
   "name": "python3"
  },
  "language_info": {
   "codemirror_mode": {
    "name": "ipython",
    "version": 3
   },
   "file_extension": ".py",
   "mimetype": "text/x-python",
   "name": "python",
   "nbconvert_exporter": "python",
   "pygments_lexer": "ipython3",
   "version": "3.6.4"
  }
 },
 "nbformat": 4,
 "nbformat_minor": 2
}
